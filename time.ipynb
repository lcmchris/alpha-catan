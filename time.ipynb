{
 "cells": [
  {
   "cell_type": "code",
   "execution_count": 1,
   "metadata": {},
   "outputs": [
    {
     "name": "stdout",
     "output_type": "stream",
     "text": [
      "^C\n",
      "Traceback (most recent call last):\n",
      "  File \"<frozen runpy>\", line 198, in _run_module_as_main\n",
      "  File \"<frozen runpy>\", line 88, in _run_code\n",
      "  File \"/home/chrisl/.pyenv/versions/3.12.3/lib/python3.12/cProfile.py\", line 195, in <module>\n",
      "    main()\n",
      "  File \"/home/chrisl/.pyenv/versions/3.12.3/lib/python3.12/cProfile.py\", line 184, in main\n",
      "    runctx(code, globs, None, options.outfile, options.sort)\n",
      "  File \"/home/chrisl/.pyenv/versions/3.12.3/lib/python3.12/cProfile.py\", line 21, in runctx\n",
      "    return _pyprofile._Utils(Profile).runctx(statement, globals, locals,\n",
      "           ^^^^^^^^^^^^^^^^^^^^^^^^^^^^^^^^^^^^^^^^^^^^^^^^^^^^^^^^^^^^^\n",
      "  File \"/home/chrisl/.pyenv/versions/3.12.3/lib/python3.12/profile.py\", line 64, in runctx\n",
      "    prof.runctx(statement, globals, locals)\n",
      "  File \"/home/chrisl/.pyenv/versions/3.12.3/lib/python3.12/cProfile.py\", line 102, in runctx\n",
      "    exec(cmd, globals, locals)\n",
      "  File \"catan_ai.py\", line 647, in <module>\n",
      "    CatanAITraining().training()\n",
      "  File \"catan_ai.py\", line 555, in training\n",
      "    self.catan.board_turn(player_tag)\n",
      "  File \"catan_ai.py\", line 328, in board_turn\n",
      "    self.deliver_resource(roll)\n",
      "  File \"/home/chrisl/.repo/alpha-catan/catan_game.py\", line 1030, in deliver_resource\n",
      "    resource_type = Resource(self.board[y - 2, x])\n",
      "                    ^^^^^^^^^^^^^^^^^^^^^^^^^^^^^^\n",
      "  File \"/home/chrisl/.pyenv/versions/3.12.3/lib/python3.12/enum.py\", line 726, in __call__\n",
      "    def __call__(cls, value, names=_not_given, *values, module=None, qualname=None, type=None, start=1, boundary=None):\n",
      "\n",
      "KeyboardInterrupt\n"
     ]
    }
   ],
   "source": [
    "!python -m cProfile -o time.txt catan_ai.py"
   ]
  },
  {
   "cell_type": "code",
   "execution_count": 2,
   "metadata": {},
   "outputs": [
    {
     "name": "stdout",
     "output_type": "stream",
     "text": [
      "Sun Sep  8 17:00:05 2024    time.txt\n",
      "\n",
      "         1419802 function calls (1402815 primitive calls) in 3.901 seconds\n",
      "\n",
      "   Ordered by: internal time\n",
      "   List reduced from 2972 to 10 due to restriction <10>\n",
      "\n",
      "   ncalls  tottime  percall  cumtime  percall filename:lineno(function)\n",
      "      750    1.364    0.002    1.482    0.002 catan_ai.py:357(policy_forward)\n",
      "        4    0.182    0.046    0.185    0.046 catan_ai.py:458(policy_backward)\n",
      "        1    0.094    0.094    2.789    2.789 catan_ai.py:525(training)\n",
      "    43/42    0.092    0.002    0.099    0.002 {built-in method _imp.create_dynamic}\n",
      "      750    0.087    0.000    0.117    0.000 /home/chrisl/.repo/alpha-catan/catan_game.py:292(action_space_list_to_action_arr)\n",
      "      750    0.071    0.000    0.083    0.000 {method 'choice' of 'numpy.random.mtrand.RandomState' objects}\n",
      "     7303    0.071    0.000    0.141    0.000 /home/chrisl/.pyenv/versions/3.12.3/lib/python3.12/inspect.py:875(cleandoc)\n",
      "      280    0.070    0.000    0.070    0.000 {method 'read' of '_io.BufferedReader' objects}\n",
      "        3    0.067    0.022    0.067    0.022 {method 'randn' of 'numpy.random.mtrand.RandomState' objects}\n",
      "      751    0.065    0.000    0.202    0.000 catan_ai.py:122(one_hot_encoder_board)\n",
      "\n",
      "\n"
     ]
    },
    {
     "data": {
      "text/plain": [
       "<pstats.Stats at 0x7f8cc4125310>"
      ]
     },
     "execution_count": 2,
     "metadata": {},
     "output_type": "execute_result"
    }
   ],
   "source": [
    "import pstats\n",
    "\n",
    "p = pstats.Stats('time.txt')\n",
    "p.sort_stats('tottime').print_stats(10)\n"
   ]
  }
 ],
 "metadata": {
  "kernelspec": {
   "display_name": "alpha-catan-U4tVEWLg-py3.12",
   "language": "python",
   "name": "python3"
  },
  "language_info": {
   "codemirror_mode": {
    "name": "ipython",
    "version": 3
   },
   "file_extension": ".py",
   "mimetype": "text/x-python",
   "name": "python",
   "nbconvert_exporter": "python",
   "pygments_lexer": "ipython3",
   "version": "3.12.3"
  }
 },
 "nbformat": 4,
 "nbformat_minor": 2
}
