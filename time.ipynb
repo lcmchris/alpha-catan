{
 "cells": [
  {
   "cell_type": "code",
   "execution_count": 5,
   "metadata": {},
   "outputs": [
    {
     "name": "stdout",
     "output_type": "stream",
     "text": [
      "Wed Jul  3 22:03:17 2024    time.txt\n",
      "\n",
      "         1515154 function calls (1493068 primitive calls) in 24.580 seconds\n",
      "\n",
      "   Ordered by: internal time\n",
      "   List reduced from 4134 to 10 due to restriction <10>\n",
      "\n",
      "   ncalls  tottime  percall  cumtime  percall filename:lineno(function)\n",
      "      928    9.643    0.010   10.377    0.011 catan_ai.py:357(policy_forward)\n",
      "      928    4.039    0.004    4.050    0.004 /home/chrisl/.repo/alpha-catan/catan_game.py:252(action_space_list_to_action_arr)\n",
      "        2    3.735    1.867    4.106    2.053 {method 'mainloop' of '_tkinter.tkapp' objects}\n",
      "        2    0.927    0.463    0.934    0.467 catan_ai.py:391(policy_backward)\n",
      "        1    0.619    0.619   23.240   23.240 catan_ai.py:417(training)\n",
      "      928    0.429    0.000    0.563    0.001 catan_ai.py:287(softmax)\n",
      "        3    0.380    0.127    0.380    0.127 {built-in method _pickle.dump}\n",
      "        3    0.345    0.115    0.345    0.115 {method 'randn' of 'numpy.random.mtrand.RandomState' objects}\n",
      "      928    0.293    0.000    0.342    0.000 {method 'choice' of 'numpy.random.mtrand.RandomState' objects}\n",
      "      929    0.272    0.000    1.016    0.001 catan_ai.py:99(prepro)\n",
      "\n",
      "\n"
     ]
    },
    {
     "data": {
      "text/plain": [
       "<pstats.Stats at 0x7fcd6561d040>"
      ]
     },
     "execution_count": 5,
     "metadata": {},
     "output_type": "execute_result"
    }
   ],
   "source": [
    "import pstats\n",
    "\n",
    "p = pstats.Stats('time.txt')\n",
    "p.sort_stats('tottime').print_stats(10)\n"
   ]
  }
 ],
 "metadata": {
  "kernelspec": {
   "display_name": "alpha-catan-U4tVEWLg-py3.12",
   "language": "python",
   "name": "python3"
  },
  "language_info": {
   "codemirror_mode": {
    "name": "ipython",
    "version": 3
   },
   "file_extension": ".py",
   "mimetype": "text/x-python",
   "name": "python",
   "nbconvert_exporter": "python",
   "pygments_lexer": "ipython3",
   "version": "3.12.4"
  }
 },
 "nbformat": 4,
 "nbformat_minor": 2
}
